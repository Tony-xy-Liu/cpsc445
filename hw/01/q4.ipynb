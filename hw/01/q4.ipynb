{
 "cells": [
  {
   "cell_type": "code",
   "execution_count": 1,
   "metadata": {},
   "outputs": [],
   "source": [
    "import os, sys\n",
    "import numpy as np\n",
    "from sklearn.metrics import pairwise_distances"
   ]
  },
  {
   "cell_type": "code",
   "execution_count": 15,
   "metadata": {},
   "outputs": [
    {
     "name": "stdout",
     "output_type": "stream",
     "text": [
      "0 & 10 & 4\\\\\n",
      "10 & 0 & 12\\\\\n",
      "4 & 12 & 0\\\\\n",
      "\n",
      "0 & 5.477 & 2.449\\\\\n",
      "5.477 & 0 & 6.928\\\\\n",
      "2.449 & 6.928 & 0\\\\\n",
      "\n",
      "0 & 0.091 & 0.030\\\\\n",
      "0.091 & 0 & 0.219\\\\\n",
      "0.030 & 0.219 & 0\\\\\n",
      "\n"
     ]
    }
   ],
   "source": [
    "X = np.array([\n",
    "    [1, 3, 4, 5],\n",
    "    [4, 1, 5, 9],\n",
    "    [0, 5, 5, 5],\n",
    "])\n",
    "\n",
    "distances = [\n",
    "    pairwise_distances(X, X, metric='l1'),\n",
    "    pairwise_distances(X, X, metric='l2'),\n",
    "    pairwise_distances(X, X, metric='cosine'),\n",
    "]\n",
    "\n",
    "for m in distances:\n",
    "    for row in m:\n",
    "        line = \" & \".join([f'{int(v)}' if v.is_integer() else f'{v:.3f}' for v in row])+ '\\\\\\\\'\n",
    "        print(line)\n",
    "    print('')"
   ]
  },
  {
   "cell_type": "code",
   "execution_count": 16,
   "metadata": {},
   "outputs": [],
   "source": [
    "# l1: (1, 3) = 4, (1, 2) = 10\n",
    "# l2: (1, 3) = 2.45, (1, 2) = 5.48\n",
    "# cos: (1, 3) = 0.023, (1, 2) = 0.091"
   ]
  }
 ],
 "metadata": {
  "kernelspec": {
   "display_name": "445",
   "language": "python",
   "name": "python3"
  },
  "language_info": {
   "codemirror_mode": {
    "name": "ipython",
    "version": 3
   },
   "file_extension": ".py",
   "mimetype": "text/x-python",
   "name": "python",
   "nbconvert_exporter": "python",
   "pygments_lexer": "ipython3",
   "version": "3.10.8"
  },
  "orig_nbformat": 4,
  "vscode": {
   "interpreter": {
    "hash": "5fe03c8657f1a04fd7e4aecb1e74fa2dcabafe36cb99d94a3cf4463e4e1e91e2"
   }
  }
 },
 "nbformat": 4,
 "nbformat_minor": 2
}
