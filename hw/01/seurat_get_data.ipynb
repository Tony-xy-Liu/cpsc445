{
 "cells": [
  {
   "cell_type": "code",
   "execution_count": 1,
   "metadata": {},
   "outputs": [],
   "source": [
    "import os, sys\n",
    "from local.constants import DATA\n",
    "\n",
    "_data_tar = 'pbmc3k_filtered_gene_bc_matrices.tar.gz'\n",
    "if not os.path.exists(DATA.joinpath('filtered_gene_bc_matrices')):\n",
    "    os.system(f\"\"\"\\\n",
    "        wget --quiet -O {DATA.joinpath(_data_tar)} https://cf.10xgenomics.com/samples/cell/pbmc3k/{_data_tar}\n",
    "        cd {DATA}\n",
    "        tar -xf {_data_tar}\n",
    "    \"\"\")"
   ]
  }
 ],
 "metadata": {
  "kernelspec": {
   "display_name": "445",
   "language": "python",
   "name": "python3"
  },
  "language_info": {
   "codemirror_mode": {
    "name": "ipython",
    "version": 3
   },
   "file_extension": ".py",
   "mimetype": "text/x-python",
   "name": "python",
   "nbconvert_exporter": "python",
   "pygments_lexer": "ipython3",
   "version": "3.10.8 | packaged by conda-forge | (main, Nov 22 2022, 08:26:04) [GCC 10.4.0]"
  },
  "orig_nbformat": 4,
  "vscode": {
   "interpreter": {
    "hash": "5fe03c8657f1a04fd7e4aecb1e74fa2dcabafe36cb99d94a3cf4463e4e1e91e2"
   }
  }
 },
 "nbformat": 4,
 "nbformat_minor": 2
}
