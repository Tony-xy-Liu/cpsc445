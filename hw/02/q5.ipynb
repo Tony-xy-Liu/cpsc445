{
 "cells": [
  {
   "cell_type": "code",
   "execution_count": 1,
   "metadata": {},
   "outputs": [
    {
     "name": "stdout",
     "output_type": "stream",
     "text": [
      "(2638, 2000)\n"
     ]
    },
    {
     "data": {
      "text/html": [
       "<div>\n",
       "<style scoped>\n",
       "    .dataframe tbody tr th:only-of-type {\n",
       "        vertical-align: middle;\n",
       "    }\n",
       "\n",
       "    .dataframe tbody tr th {\n",
       "        vertical-align: top;\n",
       "    }\n",
       "\n",
       "    .dataframe thead th {\n",
       "        text-align: right;\n",
       "    }\n",
       "</style>\n",
       "<table border=\"1\" class=\"dataframe\">\n",
       "  <thead>\n",
       "    <tr style=\"text-align: right;\">\n",
       "      <th></th>\n",
       "      <th>PPBP</th>\n",
       "      <th>LYZ</th>\n",
       "      <th>S100A9</th>\n",
       "      <th>IGLL5</th>\n",
       "      <th>GNLY</th>\n",
       "      <th>FTL</th>\n",
       "      <th>PF4</th>\n",
       "      <th>FTH1</th>\n",
       "      <th>GNG11</th>\n",
       "      <th>S100A8</th>\n",
       "      <th>...</th>\n",
       "      <th>GADD45G</th>\n",
       "      <th>MKNK1</th>\n",
       "      <th>AURKC</th>\n",
       "      <th>VOPP1</th>\n",
       "      <th>RHOC</th>\n",
       "      <th>CISH</th>\n",
       "      <th>CD27</th>\n",
       "      <th>LILRA3</th>\n",
       "      <th>WBP5</th>\n",
       "      <th>CLIC2</th>\n",
       "    </tr>\n",
       "  </thead>\n",
       "  <tbody>\n",
       "    <tr>\n",
       "      <th>AAACATACAACCAC-1</th>\n",
       "      <td>0.000000</td>\n",
       "      <td>1.635873</td>\n",
       "      <td>0.000000</td>\n",
       "      <td>0.0</td>\n",
       "      <td>0.000000</td>\n",
       "      <td>3.924095</td>\n",
       "      <td>0.0</td>\n",
       "      <td>2.226555</td>\n",
       "      <td>0.0</td>\n",
       "      <td>0.000000</td>\n",
       "      <td>...</td>\n",
       "      <td>0.000000</td>\n",
       "      <td>0.0</td>\n",
       "      <td>0.0</td>\n",
       "      <td>0.000000</td>\n",
       "      <td>0.0</td>\n",
       "      <td>0.0</td>\n",
       "      <td>3.075915</td>\n",
       "      <td>0.0</td>\n",
       "      <td>0.0</td>\n",
       "      <td>0.0</td>\n",
       "    </tr>\n",
       "    <tr>\n",
       "      <th>AAACATTGAGCTAC-1</th>\n",
       "      <td>0.000000</td>\n",
       "      <td>1.962726</td>\n",
       "      <td>0.000000</td>\n",
       "      <td>0.0</td>\n",
       "      <td>0.000000</td>\n",
       "      <td>3.063189</td>\n",
       "      <td>0.0</td>\n",
       "      <td>3.574384</td>\n",
       "      <td>0.0</td>\n",
       "      <td>0.000000</td>\n",
       "      <td>...</td>\n",
       "      <td>0.000000</td>\n",
       "      <td>0.0</td>\n",
       "      <td>0.0</td>\n",
       "      <td>1.111715</td>\n",
       "      <td>0.0</td>\n",
       "      <td>0.0</td>\n",
       "      <td>1.111715</td>\n",
       "      <td>0.0</td>\n",
       "      <td>0.0</td>\n",
       "      <td>0.0</td>\n",
       "    </tr>\n",
       "    <tr>\n",
       "      <th>AAACATTGATCAGC-1</th>\n",
       "      <td>0.000000</td>\n",
       "      <td>1.995416</td>\n",
       "      <td>0.000000</td>\n",
       "      <td>0.0</td>\n",
       "      <td>1.429744</td>\n",
       "      <td>3.274161</td>\n",
       "      <td>0.0</td>\n",
       "      <td>3.582238</td>\n",
       "      <td>0.0</td>\n",
       "      <td>0.000000</td>\n",
       "      <td>...</td>\n",
       "      <td>1.429744</td>\n",
       "      <td>0.0</td>\n",
       "      <td>0.0</td>\n",
       "      <td>0.000000</td>\n",
       "      <td>0.0</td>\n",
       "      <td>0.0</td>\n",
       "      <td>1.429744</td>\n",
       "      <td>0.0</td>\n",
       "      <td>0.0</td>\n",
       "      <td>0.0</td>\n",
       "    </tr>\n",
       "    <tr>\n",
       "      <th>AAACCGTGCTTCCG-1</th>\n",
       "      <td>1.566387</td>\n",
       "      <td>4.521175</td>\n",
       "      <td>3.838845</td>\n",
       "      <td>0.0</td>\n",
       "      <td>0.000000</td>\n",
       "      <td>5.692271</td>\n",
       "      <td>0.0</td>\n",
       "      <td>5.919842</td>\n",
       "      <td>0.0</td>\n",
       "      <td>2.515108</td>\n",
       "      <td>...</td>\n",
       "      <td>0.000000</td>\n",
       "      <td>0.0</td>\n",
       "      <td>0.0</td>\n",
       "      <td>0.000000</td>\n",
       "      <td>0.0</td>\n",
       "      <td>0.0</td>\n",
       "      <td>0.000000</td>\n",
       "      <td>0.0</td>\n",
       "      <td>0.0</td>\n",
       "      <td>0.0</td>\n",
       "    </tr>\n",
       "    <tr>\n",
       "      <th>AAACCGTGTATGCG-1</th>\n",
       "      <td>0.000000</td>\n",
       "      <td>0.000000</td>\n",
       "      <td>0.000000</td>\n",
       "      <td>0.0</td>\n",
       "      <td>3.453545</td>\n",
       "      <td>5.218589</td>\n",
       "      <td>0.0</td>\n",
       "      <td>3.453545</td>\n",
       "      <td>0.0</td>\n",
       "      <td>0.000000</td>\n",
       "      <td>...</td>\n",
       "      <td>0.000000</td>\n",
       "      <td>0.0</td>\n",
       "      <td>0.0</td>\n",
       "      <td>0.000000</td>\n",
       "      <td>0.0</td>\n",
       "      <td>0.0</td>\n",
       "      <td>0.000000</td>\n",
       "      <td>0.0</td>\n",
       "      <td>0.0</td>\n",
       "      <td>0.0</td>\n",
       "    </tr>\n",
       "  </tbody>\n",
       "</table>\n",
       "<p>5 rows × 2000 columns</p>\n",
       "</div>"
      ],
      "text/plain": [
       "                      PPBP       LYZ    S100A9  IGLL5      GNLY       FTL  \\\n",
       "AAACATACAACCAC-1  0.000000  1.635873  0.000000    0.0  0.000000  3.924095   \n",
       "AAACATTGAGCTAC-1  0.000000  1.962726  0.000000    0.0  0.000000  3.063189   \n",
       "AAACATTGATCAGC-1  0.000000  1.995416  0.000000    0.0  1.429744  3.274161   \n",
       "AAACCGTGCTTCCG-1  1.566387  4.521175  3.838845    0.0  0.000000  5.692271   \n",
       "AAACCGTGTATGCG-1  0.000000  0.000000  0.000000    0.0  3.453545  5.218589   \n",
       "\n",
       "                  PF4      FTH1  GNG11    S100A8  ...   GADD45G  MKNK1  AURKC  \\\n",
       "AAACATACAACCAC-1  0.0  2.226555    0.0  0.000000  ...  0.000000    0.0    0.0   \n",
       "AAACATTGAGCTAC-1  0.0  3.574384    0.0  0.000000  ...  0.000000    0.0    0.0   \n",
       "AAACATTGATCAGC-1  0.0  3.582238    0.0  0.000000  ...  1.429744    0.0    0.0   \n",
       "AAACCGTGCTTCCG-1  0.0  5.919842    0.0  2.515108  ...  0.000000    0.0    0.0   \n",
       "AAACCGTGTATGCG-1  0.0  3.453545    0.0  0.000000  ...  0.000000    0.0    0.0   \n",
       "\n",
       "                     VOPP1  RHOC  CISH      CD27  LILRA3  WBP5  CLIC2  \n",
       "AAACATACAACCAC-1  0.000000   0.0   0.0  3.075915     0.0   0.0    0.0  \n",
       "AAACATTGAGCTAC-1  1.111715   0.0   0.0  1.111715     0.0   0.0    0.0  \n",
       "AAACATTGATCAGC-1  0.000000   0.0   0.0  1.429744     0.0   0.0    0.0  \n",
       "AAACCGTGCTTCCG-1  0.000000   0.0   0.0  0.000000     0.0   0.0    0.0  \n",
       "AAACCGTGTATGCG-1  0.000000   0.0   0.0  0.000000     0.0   0.0    0.0  \n",
       "\n",
       "[5 rows x 2000 columns]"
      ]
     },
     "execution_count": 1,
     "metadata": {},
     "output_type": "execute_result"
    }
   ],
   "source": [
    "# https://github.com/Tony-xy-Liu/cpsc445/blob/main/hw/02/q5.ipynb\n",
    "\n",
    "# #from R:\n",
    "# gene = pbmc@assays$RNA@var.features\n",
    "# x = pbmc@assays$RNA@data[gene,]\n",
    "# x = t(as.matrix(x))\n",
    "# write.table(x, file=\"pbmc.csv\", sep = ',', row.names=TRUE, col.names=TRUE)\n",
    "# write.table(pbmc@meta.data, file=\"pbmc_meta.csv\", sep = ',', row.names=TRUE, col.names=TRUE)\n",
    "\n",
    "import pandas as pd\n",
    "import numpy as np\n",
    "\n",
    "df = pd.read_csv('../01/pbmc.csv')\n",
    "cluster_names = [\"Naive CD4 T\", \"CD14+ Mono\", \"Memory CD4 T\", \"B\", \"CD8 T\", \"FCGR3A+ Mono\", \"NK\", \"DC\", \"Platelet\"]\n",
    "FMONO = \"FCGR3A+ Mono\"\n",
    "NK = \"NK\"\n",
    "print(df.shape)\n",
    "df.head()"
   ]
  },
  {
   "cell_type": "code",
   "execution_count": 2,
   "metadata": {},
   "outputs": [
    {
     "name": "stdout",
     "output_type": "stream",
     "text": [
      "(2638, 7)\n"
     ]
    },
    {
     "data": {
      "text/html": [
       "<div>\n",
       "<style scoped>\n",
       "    .dataframe tbody tr th:only-of-type {\n",
       "        vertical-align: middle;\n",
       "    }\n",
       "\n",
       "    .dataframe tbody tr th {\n",
       "        vertical-align: top;\n",
       "    }\n",
       "\n",
       "    .dataframe thead th {\n",
       "        text-align: right;\n",
       "    }\n",
       "</style>\n",
       "<table border=\"1\" class=\"dataframe\">\n",
       "  <thead>\n",
       "    <tr style=\"text-align: right;\">\n",
       "      <th></th>\n",
       "      <th>cell</th>\n",
       "      <th>orig.ident</th>\n",
       "      <th>nCount_RNA</th>\n",
       "      <th>nFeature_RNA</th>\n",
       "      <th>percent.mt</th>\n",
       "      <th>RNA_snn_res.0.5</th>\n",
       "      <th>seurat_clusters</th>\n",
       "    </tr>\n",
       "  </thead>\n",
       "  <tbody>\n",
       "    <tr>\n",
       "      <th>0</th>\n",
       "      <td>AAACATACAACCAC-1</td>\n",
       "      <td>pbmc3k</td>\n",
       "      <td>2419</td>\n",
       "      <td>779</td>\n",
       "      <td>3.017776</td>\n",
       "      <td>2</td>\n",
       "      <td>2</td>\n",
       "    </tr>\n",
       "    <tr>\n",
       "      <th>1</th>\n",
       "      <td>AAACATTGAGCTAC-1</td>\n",
       "      <td>pbmc3k</td>\n",
       "      <td>4903</td>\n",
       "      <td>1352</td>\n",
       "      <td>3.793596</td>\n",
       "      <td>3</td>\n",
       "      <td>3</td>\n",
       "    </tr>\n",
       "    <tr>\n",
       "      <th>2</th>\n",
       "      <td>AAACATTGATCAGC-1</td>\n",
       "      <td>pbmc3k</td>\n",
       "      <td>3147</td>\n",
       "      <td>1129</td>\n",
       "      <td>0.889736</td>\n",
       "      <td>2</td>\n",
       "      <td>2</td>\n",
       "    </tr>\n",
       "    <tr>\n",
       "      <th>3</th>\n",
       "      <td>AAACCGTGCTTCCG-1</td>\n",
       "      <td>pbmc3k</td>\n",
       "      <td>2639</td>\n",
       "      <td>960</td>\n",
       "      <td>1.743085</td>\n",
       "      <td>1</td>\n",
       "      <td>1</td>\n",
       "    </tr>\n",
       "    <tr>\n",
       "      <th>4</th>\n",
       "      <td>AAACCGTGTATGCG-1</td>\n",
       "      <td>pbmc3k</td>\n",
       "      <td>980</td>\n",
       "      <td>521</td>\n",
       "      <td>1.224490</td>\n",
       "      <td>6</td>\n",
       "      <td>6</td>\n",
       "    </tr>\n",
       "  </tbody>\n",
       "</table>\n",
       "</div>"
      ],
      "text/plain": [
       "               cell orig.ident  nCount_RNA  nFeature_RNA  percent.mt  \\\n",
       "0  AAACATACAACCAC-1     pbmc3k        2419           779    3.017776   \n",
       "1  AAACATTGAGCTAC-1     pbmc3k        4903          1352    3.793596   \n",
       "2  AAACATTGATCAGC-1     pbmc3k        3147          1129    0.889736   \n",
       "3  AAACCGTGCTTCCG-1     pbmc3k        2639           960    1.743085   \n",
       "4  AAACCGTGTATGCG-1     pbmc3k         980           521    1.224490   \n",
       "\n",
       "   RNA_snn_res.0.5  seurat_clusters  \n",
       "0                2                2  \n",
       "1                3                3  \n",
       "2                2                2  \n",
       "3                1                1  \n",
       "4                6                6  "
      ]
     },
     "execution_count": 2,
     "metadata": {},
     "output_type": "execute_result"
    }
   ],
   "source": [
    "meta = pd.read_csv('pbmc_meta.csv')\n",
    "print(meta.shape)\n",
    "meta.head()"
   ]
  },
  {
   "cell_type": "code",
   "execution_count": 10,
   "metadata": {},
   "outputs": [
    {
     "data": {
      "text/plain": [
       "(array(['AAACGCTGTTTCTG-1', 'AAATCAACCCTATT-1', 'AAATCATGACCACA-1'],\n",
       "       dtype=object),\n",
       " (162,))"
      ]
     },
     "execution_count": 10,
     "metadata": {},
     "output_type": "execute_result"
    }
   ],
   "source": [
    "fmono_cells = meta[meta[\"seurat_clusters\"] == cluster_names.index(FMONO)][\"cell\"].values\n",
    "fmono_cells[:3], fmono_cells.shape"
   ]
  },
  {
   "cell_type": "code",
   "execution_count": 11,
   "metadata": {},
   "outputs": [
    {
     "data": {
      "text/plain": [
       "(array(['AAACCGTGTATGCG-1', 'AAATTCGATTCTCA-1', 'AACCTTACGCGAGA-1'],\n",
       "       dtype=object),\n",
       " (155,))"
      ]
     },
     "execution_count": 11,
     "metadata": {},
     "output_type": "execute_result"
    }
   ],
   "source": [
    "nk_cells = meta[meta[\"seurat_clusters\"] == cluster_names.index(NK)][\"cell\"].values\n",
    "nk_cells[:3], nk_cells.shape"
   ]
  },
  {
   "cell_type": "code",
   "execution_count": 19,
   "metadata": {},
   "outputs": [],
   "source": [
    "fmono_feats = df[df.index.isin(fmono_cells)]\n",
    "nk_feats = df[df.index.isin(nk_cells)]"
   ]
  },
  {
   "cell_type": "code",
   "execution_count": 25,
   "metadata": {},
   "outputs": [
    {
     "data": {
      "text/plain": [
       "Ttest_indResult(statistic=6.201983066702088, pvalue=1.9829015768110337e-09)"
      ]
     },
     "execution_count": 25,
     "metadata": {},
     "output_type": "execute_result"
    }
   ],
   "source": [
    "from scipy import stats\n",
    "\n",
    "res = stats.ttest_ind(fmono_feats[\"FCGR3A\"].values, nk_feats[\"FCGR3A\"].values, equal_var=False)\n",
    "res"
   ]
  }
 ],
 "metadata": {
  "kernelspec": {
   "display_name": "445",
   "language": "python",
   "name": "python3"
  },
  "language_info": {
   "codemirror_mode": {
    "name": "ipython",
    "version": 3
   },
   "file_extension": ".py",
   "mimetype": "text/x-python",
   "name": "python",
   "nbconvert_exporter": "python",
   "pygments_lexer": "ipython3",
   "version": "3.10.8"
  },
  "orig_nbformat": 4,
  "vscode": {
   "interpreter": {
    "hash": "5fe03c8657f1a04fd7e4aecb1e74fa2dcabafe36cb99d94a3cf4463e4e1e91e2"
   }
  }
 },
 "nbformat": 4,
 "nbformat_minor": 2
}
