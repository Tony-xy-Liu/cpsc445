{
 "cells": [
  {
   "cell_type": "code",
   "execution_count": 1,
   "metadata": {},
   "outputs": [],
   "source": [
    "import scipy\n",
    "import numpy as np\n",
    "\n"
   ]
  },
  {
   "cell_type": "code",
   "execution_count": 2,
   "metadata": {},
   "outputs": [
    {
     "data": {
      "text/plain": [
       "(array([0.92857143, 1.85714286, 2.78571429]),\n",
       " array([2.14285714, 0.71428571, 1.42857143]))"
      ]
     },
     "execution_count": 2,
     "metadata": {},
     "output_type": "execute_result"
    }
   ],
   "source": [
    "def project(a: np.ndarray, b:np.ndarray):\n",
    "    len_b = np.linalg.norm(b)\n",
    "    return a.T@b/len_b**2*b\n",
    "\n",
    "a = np.array([1, 3, 2])\n",
    "b = np.array([1, 2, 3])\n",
    "c = np.array([3, 1, 2])\n",
    "\n",
    "project(a, b), project(a, c)"
   ]
  },
  {
   "cell_type": "code",
   "execution_count": 12,
   "metadata": {},
   "outputs": [
    {
     "data": {
      "text/plain": [
       "array([0.84, 1.88, 2.8 ])"
      ]
     },
     "execution_count": 12,
     "metadata": {},
     "output_type": "execute_result"
    }
   ],
   "source": [
    "# returns closest vector to @v within given space\n",
    "def orthogonal_projection(v: np.ndarray, space: np.ndarray):\n",
    "    P = space.T @ np.linalg.inv(space@space.T) @ space\n",
    "    return P@v\n",
    "\n",
    "A = np.array([\n",
    "    [1, 2, 3],\n",
    "    [3, 1, 2],\n",
    "])\n",
    "a = np.array([1, 3, 2])\n",
    "\n",
    "d = orthogonal_projection(a, A)\n",
    "# not inverible!\n",
    "d"
   ]
  },
  {
   "cell_type": "code",
   "execution_count": 9,
   "metadata": {},
   "outputs": [
    {
     "ename": "LinAlgError",
     "evalue": "0-dimensional array given. Array must be at least two-dimensional",
     "output_type": "error",
     "traceback": [
      "\u001b[0;31m---------------------------------------------------------------------------\u001b[0m",
      "\u001b[0;31mLinAlgError\u001b[0m                               Traceback (most recent call last)",
      "Cell \u001b[0;32mIn[9], line 1\u001b[0m\n\u001b[0;32m----> 1\u001b[0m orthogonal_projection(a, c)\n",
      "Cell \u001b[0;32mIn[7], line 3\u001b[0m, in \u001b[0;36morthogonal_projection\u001b[0;34m(v, space)\u001b[0m\n\u001b[1;32m      2\u001b[0m \u001b[39mdef\u001b[39;00m \u001b[39morthogonal_projection\u001b[39m(v: np\u001b[39m.\u001b[39mndarray, space: np\u001b[39m.\u001b[39mndarray):\n\u001b[0;32m----> 3\u001b[0m     P \u001b[39m=\u001b[39m space\u001b[39m.\u001b[39mT \u001b[39m@\u001b[39m np\u001b[39m.\u001b[39;49mlinalg\u001b[39m.\u001b[39;49minv(space\u001b[39m@space\u001b[39;49m\u001b[39m.\u001b[39;49mT) \u001b[39m@\u001b[39m space\n\u001b[1;32m      4\u001b[0m     \u001b[39mreturn\u001b[39;00m P\u001b[39m@v\u001b[39m\n",
      "File \u001b[0;32m<__array_function__ internals>:180\u001b[0m, in \u001b[0;36minv\u001b[0;34m(*args, **kwargs)\u001b[0m\n",
      "File \u001b[0;32m~/Utilities/mambaforge/envs/445/lib/python3.10/site-packages/numpy/linalg/linalg.py:546\u001b[0m, in \u001b[0;36minv\u001b[0;34m(a)\u001b[0m\n\u001b[1;32m    485\u001b[0m \u001b[39m\"\"\"\u001b[39;00m\n\u001b[1;32m    486\u001b[0m \u001b[39mCompute the (multiplicative) inverse of a matrix.\u001b[39;00m\n\u001b[1;32m    487\u001b[0m \n\u001b[0;32m   (...)\u001b[0m\n\u001b[1;32m    543\u001b[0m \n\u001b[1;32m    544\u001b[0m \u001b[39m\"\"\"\u001b[39;00m\n\u001b[1;32m    545\u001b[0m a, wrap \u001b[39m=\u001b[39m _makearray(a)\n\u001b[0;32m--> 546\u001b[0m _assert_stacked_2d(a)\n\u001b[1;32m    547\u001b[0m _assert_stacked_square(a)\n\u001b[1;32m    548\u001b[0m t, result_t \u001b[39m=\u001b[39m _commonType(a)\n",
      "File \u001b[0;32m~/Utilities/mambaforge/envs/445/lib/python3.10/site-packages/numpy/linalg/linalg.py:197\u001b[0m, in \u001b[0;36m_assert_stacked_2d\u001b[0;34m(*arrays)\u001b[0m\n\u001b[1;32m    195\u001b[0m \u001b[39mfor\u001b[39;00m a \u001b[39min\u001b[39;00m arrays:\n\u001b[1;32m    196\u001b[0m     \u001b[39mif\u001b[39;00m a\u001b[39m.\u001b[39mndim \u001b[39m<\u001b[39m \u001b[39m2\u001b[39m:\n\u001b[0;32m--> 197\u001b[0m         \u001b[39mraise\u001b[39;00m LinAlgError(\u001b[39m'\u001b[39m\u001b[39m%d\u001b[39;00m\u001b[39m-dimensional array given. Array must be \u001b[39m\u001b[39m'\u001b[39m\n\u001b[1;32m    198\u001b[0m                 \u001b[39m'\u001b[39m\u001b[39mat least two-dimensional\u001b[39m\u001b[39m'\u001b[39m \u001b[39m%\u001b[39m a\u001b[39m.\u001b[39mndim)\n",
      "\u001b[0;31mLinAlgError\u001b[0m: 0-dimensional array given. Array must be at least two-dimensional"
     ]
    }
   ],
   "source": [
    "orthogonal_projection(a, c)"
   ]
  }
 ],
 "metadata": {
  "kernelspec": {
   "display_name": "445",
   "language": "python",
   "name": "python3"
  },
  "language_info": {
   "codemirror_mode": {
    "name": "ipython",
    "version": 3
   },
   "file_extension": ".py",
   "mimetype": "text/x-python",
   "name": "python",
   "nbconvert_exporter": "python",
   "pygments_lexer": "ipython3",
   "version": "3.10.8"
  },
  "orig_nbformat": 4,
  "vscode": {
   "interpreter": {
    "hash": "5fe03c8657f1a04fd7e4aecb1e74fa2dcabafe36cb99d94a3cf4463e4e1e91e2"
   }
  }
 },
 "nbformat": 4,
 "nbformat_minor": 2
}
