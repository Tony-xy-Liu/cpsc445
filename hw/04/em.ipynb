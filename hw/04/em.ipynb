{
 "cells": [
  {
   "cell_type": "code",
   "execution_count": 3,
   "metadata": {},
   "outputs": [
    {
     "name": "stderr",
     "output_type": "stream",
     "text": [
      "Intel(R) Extension for Scikit-learn* enabled (https://github.com/intel/scikit-learn-intelex)\n"
     ]
    }
   ],
   "source": [
    "import numpy as np\n",
    "from sklearn.cluster import KMeans\n",
    "from sklearnex import patch_sklearn; patch_sklearn()\n",
    "import scipy\n",
    "import pandas as pd\n",
    "from concurrent.futures import ProcessPoolExecutor as Executor\n",
    "from plotly import graph_objects as go, subplots as sp\n",
    "\n",
    "axis_col = 'rgba(0, 0, 0, 0.15)'\n",
    "zero_col = 'rgba(0, 0, 0, 0.3)'\n",
    "no_col = 'rgba(0, 0, 0, 0)'\n",
    "\n",
    "xaxis_desc: dict = dict(linecolor=no_col, gridcolor=axis_col, zerolinecolor=zero_col, zerolinewidth=2)\n",
    "yaxis_desc: dict = dict(linecolor=no_col, gridcolor=axis_col, zerolinecolor=zero_col, zerolinewidth=2)\n",
    "layout = dict(\n",
    "    autosize=True,\n",
    "    width=1400,\n",
    "    height=400,\n",
    "    margin=dict(\n",
    "        l=60, r=25, b=60, t=60, pad=5\n",
    "    ),\n",
    "    # paper_bgcolor=\"white\",\n",
    "    font_family=\"Times New Roman\",\n",
    "    font_color=\"black\",\n",
    "    font_size=20,\n",
    "    plot_bgcolor='white',\n",
    "    xaxis=dict(**xaxis_desc, ),\n",
    "    yaxis=yaxis_desc,\n",
    ")\n",
    "\n",
    "from local.caching import load, save"
   ]
  },
  {
   "cell_type": "code",
   "execution_count": 4,
   "metadata": {},
   "outputs": [
    {
     "name": "stderr",
     "output_type": "stream",
     "text": [
      "/home/tony/Utilities/mambaforge/envs/445/lib/python3.10/site-packages/sklearn/cluster/_kmeans.py:870: FutureWarning: The default value of `n_init` will change from 10 to 'auto' in 1.4. Set the value of `n_init` explicitly to suppress the warning\n",
      "  warnings.warn(\n"
     ]
    }
   ],
   "source": [
    "ALPHAS = [2, 2, 2]\n",
    "NU = 2\n",
    "BETA = 2\n",
    "NUM_CLUSTERS = len(ALPHAS)\n",
    "\n",
    "_RAND_STATE = 0\n",
    "\n",
    "np.random.seed(_RAND_STATE)\n",
    "xs = pd.read_csv('pmm_q1.tsv', header=None).to_numpy()\n",
    "alphas = np.array(ALPHAS)\n",
    "alpha_sum = alphas.sum()\n",
    "\n",
    "# kmeans initialization\n",
    "kmeans = KMeans(n_clusters=NUM_CLUSTERS, random_state=_RAND_STATE)\n",
    "kmeans.fit(xs)\n",
    "assignments = np.zeros(shape=(xs.shape[0], NUM_CLUSTERS))\n",
    "initial_lambdas = np.zeros(shape=(NUM_CLUSTERS, ))\n",
    "pi = np.zeros(shape=(NUM_CLUSTERS, ))\n",
    "for k in range(NUM_CLUSTERS):\n",
    "    group = np.array([x for a, x in zip(kmeans.labels_, xs) if a == k])\n",
    "    initial_lambdas[k] = group.mean()\n",
    "    pi[k] = group.shape[0]/xs.shape[0]"
   ]
  },
  {
   "cell_type": "code",
   "execution_count": 32,
   "metadata": {},
   "outputs": [
    {
     "name": "stdout",
     "output_type": "stream",
     "text": [
      "compressing & caching data to [{WORKSPACE}/hw/04/cache/em_200.pkl.gz]\n",
      "π: [0.48632503 0.25056332 0.26311166]\n",
      "λ: [ 0.73564205 12.48231551  5.6132459 ]\n"
     ]
    }
   ],
   "source": [
    "previous = False\n",
    "retry=False\n",
    "retry = True\n",
    "iterations = 200\n",
    "\n",
    "save_file = f\"em_{iterations}\"\n",
    "if not retry:\n",
    "    try:\n",
    "        pi, current_lambdas, log_lls = load(save_file)\n",
    "        previous = True\n",
    "    except FileNotFoundError:\n",
    "        pass\n",
    "\n",
    "if not previous or retry:\n",
    "    current_lambdas = initial_lambdas.copy()\n",
    "    ll_last_component = np.zeros(shape=assignments.shape)\n",
    "    log_lls = []\n",
    "    for it in range(iterations):\n",
    "        print(f\"iteration: {it+1}\", end='\\r')\n",
    "        xvec = xs[:, 0]\n",
    "\n",
    "        # e-step\n",
    "        gammas = []\n",
    "        for k in range(NUM_CLUSTERS):\n",
    "            gammas.append(scipy.stats.gamma.pdf(current_lambdas[k], NU))\n",
    "            for i, x in enumerate(xvec):\n",
    "                fx_theta = scipy.stats.poisson.pmf(x, current_lambdas[k])\n",
    "                assignments[i, k] = pi[k]*fx_theta\n",
    "                ll_last_component[i, k] = np.log(pi[k]) + np.log(fx_theta)\n",
    "\n",
    "        assignments = (assignments.T/assignments.sum(axis=1)).T\n",
    "        log_ll = np.log(scipy.stats.dirichlet.pdf(pi, alphas)) + np.log(gammas).sum() + (assignments*ll_last_component).sum()\n",
    "        # print(scipy.stats.dirichlet.pdf(pi, alphas))\n",
    "        log_lls.append(log_ll)\n",
    "\n",
    "        # m-step\n",
    "        for k in range(NUM_CLUSTERS):\n",
    "            K, N = NUM_CLUSTERS, xs.shape[0]\n",
    "            assignments_k_sum = assignments[:, k].sum()\n",
    "\n",
    "            pi[k] = (alphas[k] - 1 + assignments_k_sum) / (alpha_sum - K + N)\n",
    "            current_lambdas[k] = ((assignments[:, k]*xvec).sum()+1) / (assignments_k_sum+2)\n",
    "    \n",
    "    save(save_file, (pi, current_lambdas, log_lls))\n",
    "\n",
    "print(f\"π: {pi}\")\n",
    "print(f\"λ: {current_lambdas.T}\")"
   ]
  },
  {
   "cell_type": "code",
   "execution_count": 33,
   "metadata": {},
   "outputs": [
    {
     "data": {
      "application/vnd.plotly.v1+json": {
       "config": {
        "plotlyServerURL": "https://plot.ly"
       },
       "data": [
        {
         "line": {
          "width": 1
         },
         "marker": {
          "size": 3
         },
         "mode": "lines+markers",
         "showlegend": false,
         "type": "scatter",
         "x": [
          0,
          1,
          2,
          3,
          4,
          5,
          6,
          7,
          8,
          9,
          10,
          11,
          12,
          13,
          14,
          15,
          16,
          17,
          18,
          19,
          20,
          21,
          22,
          23,
          24,
          25,
          26,
          27,
          28,
          29,
          30,
          31,
          32,
          33,
          34,
          35,
          36,
          37,
          38,
          39,
          40,
          41,
          42,
          43,
          44,
          45,
          46,
          47,
          48,
          49,
          50,
          51,
          52,
          53,
          54,
          55,
          56,
          57,
          58,
          59,
          60,
          61,
          62,
          63,
          64,
          65,
          66,
          67,
          68,
          69,
          70,
          71,
          72,
          73,
          74,
          75,
          76,
          77,
          78,
          79,
          80,
          81,
          82,
          83,
          84,
          85,
          86,
          87,
          88,
          89,
          90,
          91,
          92,
          93,
          94,
          95,
          96,
          97,
          98,
          99,
          100,
          101,
          102,
          103,
          104,
          105,
          106,
          107,
          108,
          109,
          110,
          111,
          112,
          113,
          114,
          115,
          116,
          117,
          118,
          119,
          120,
          121,
          122,
          123,
          124,
          125,
          126,
          127,
          128,
          129,
          130,
          131,
          132,
          133,
          134,
          135,
          136,
          137,
          138,
          139,
          140,
          141,
          142,
          143,
          144,
          145,
          146,
          147,
          148,
          149,
          150,
          151,
          152,
          153,
          154,
          155,
          156,
          157,
          158,
          159,
          160,
          161,
          162,
          163,
          164,
          165,
          166,
          167,
          168,
          169,
          170,
          171,
          172,
          173,
          174,
          175,
          176,
          177,
          178,
          179,
          180,
          181,
          182,
          183,
          184,
          185,
          186,
          187,
          188,
          189,
          190,
          191,
          192,
          193,
          194,
          195,
          196,
          197,
          198,
          199
         ],
         "y": [
          -2879.1655292326977,
          -2874.352818210322,
          -2875.5111134943336,
          -2876.306375276734,
          -2877.1962723169013,
          -2878.1458578143743,
          -2879.0946521658984,
          -2880.0049800981938,
          -2880.8578260763343,
          -2881.6453289913516,
          -2882.365823216086,
          -2883.020981141385,
          -2883.6142053223552,
          -2884.1497203814897,
          -2884.63205662806,
          -2885.0657564688127,
          -2885.455209910861,
          -2885.804566104336,
          -2886.1176902163315,
          -2886.3981474835864,
          -2886.6492035076362,
          -2886.873834095216,
          -2887.074740488731,
          -2887.25436738602,
          -2887.41492211605,
          -2887.558393949018,
          -2887.686572911429,
          -2887.8010677307025,
          -2887.903322699467,
          -2887.994633357953,
          -2888.0761609633746,
          -2888.148945760613,
          -2888.2139190969715,
          -2888.271914440975,
          -2888.323677374648,
          -2888.369874632955,
          -2888.4111022649795,
          -2888.4478929899033,
          -2888.4807228179975,
          -2888.510017003032,
          -2888.53615538824,
          -2888.559477203503,
          -2888.580285366923,
          -2888.598850339509,
          -2888.615413577521,
          -2888.6301906229605,
          -2888.6433738689934,
          -2888.6551350335853,
          -2888.6656273714284,
          -2888.674987651301,
          -2888.6833379232785,
          -2888.69078709781,
          -2888.6974323563945,
          -2888.7033604116295,
          -2888.708648632516,
          -2888.71336604932,
          -2888.7175742507657,
          -2888.721328185017,
          -2888.724676874687,
          -2888.72766405508,
          -2888.7303287438253,
          -2888.732705749285,
          -2888.734826124265,
          -2888.7367175709005,
          -2888.7384048019535,
          -2888.7399098632122,
          -2888.7412524211413,
          -2888.742450019566,
          -2888.7435183086573,
          -2888.7444712492625,
          -2888.745321295193,
          -2888.746079555853,
          -2888.74675594133,
          -2888.747359291838,
          -2888.7478974931955,
          -2888.7483775798396,
          -2888.7488058267286,
          -2888.74918783133,
          -2888.749528586756,
          -2888.749832547006,
          -2888.7501036851722,
          -2888.7503455453566,
          -2888.750561288986,
          -2888.7507537361334,
          -2888.7509254023644,
          -2888.7510785316254,
          -2888.751215125562,
          -2888.751336969684,
          -2888.7514456567064,
          -2888.7515426073596,
          -2888.7516290889644,
          -2888.7517062319944,
          -2888.751775044856,
          -2888.7518364270613,
          -2888.751891180999,
          -2888.751940022407,
          -2888.7519835897406,
          -2888.75202245251,
          -2888.752057118733,
          -2888.752088041566,
          -2888.752115625231,
          -2888.752140230307,
          -2888.7521621784313,
          -2888.7521817565103,
          -2888.752199220471,
          -2888.752214798605,
          -2888.752228694551,
          -2888.752241089956,
          -2888.7522521468572,
          -2888.75226200979,
          -2888.7522708076835,
          -2888.7522786555437,
          -2888.7522856559617,
          -2888.7522919004464,
          -2888.752297470626,
          -2888.7523024393145,
          -2888.752306871465,
          -2888.752310825014,
          -2888.752314351641,
          -2888.75231749745,
          -2888.752320303562,
          -2888.7523228066575,
          -2888.752325039459,
          -2888.7523270311535,
          -2888.7523288077764,
          -2888.7523303925536,
          -2888.7523318061985,
          -2888.752333067192,
          -2888.7523341920205,
          -2888.752335195384,
          -2888.7523360903997,
          -2888.752336888769,
          -2888.752337600926,
          -2888.752338236183,
          -2888.7523388028403,
          -2888.75233930831,
          -2888.7523397591945,
          -2888.752340161393,
          -2888.7523405201587,
          -2888.7523408401835,
          -2888.752341125652,
          -2888.7523413802937,
          -2888.752341607437,
          -2888.7523418100545,
          -2888.752341990791,
          -2888.7523421520123,
          -2888.7523422958225,
          -2888.7523424241044,
          -2888.7523425385352,
          -2888.7523426406065,
          -2888.752342731658,
          -2888.752342812877,
          -2888.752342885324,
          -2888.75234294995,
          -2888.7523430075958,
          -2888.752343059017,
          -2888.7523431048858,
          -2888.752343145802,
          -2888.7523431822997,
          -2888.752343214856,
          -2888.7523432438975,
          -2888.752343269802,
          -2888.75234329291,
          -2888.752343313522,
          -2888.7523433319084,
          -2888.75234334831,
          -2888.75234336294,
          -2888.7523433759898,
          -2888.752343387631,
          -2888.7523433980145,
          -2888.7523434072773,
          -2888.75234341554,
          -2888.7523434229097,
          -2888.752343429485,
          -2888.752343435349,
          -2888.7523434405807,
          -2888.752343445246,
          -2888.7523434494083,
          -2888.752343453122,
          -2888.752343456433,
          -2888.752343459388,
          -2888.752343462022,
          -2888.752343464374,
          -2888.7523434664713,
          -2888.7523434683408,
          -2888.7523434700092,
          -2888.7523434714985,
          -2888.7523434728255,
          -2888.752343474009,
          -2888.752343475067,
          -2888.7523434760083,
          -2888.7523434768495,
          -2888.7523434775994,
          -2888.7523434782674,
          -2888.752343478864,
          -2888.7523434793957,
          -2888.7523434798713,
          -2888.7523434802943,
          -2888.7523434806717,
          -2888.752343481009
         ]
        }
       ],
       "layout": {
        "autosize": true,
        "font": {
         "color": "black",
         "family": "Times New Roman",
         "size": 20
        },
        "height": 400,
        "margin": {
         "b": 60,
         "l": 60,
         "pad": 5,
         "r": 25,
         "t": 60
        },
        "plot_bgcolor": "white",
        "template": {
         "data": {
          "bar": [
           {
            "error_x": {
             "color": "#2a3f5f"
            },
            "error_y": {
             "color": "#2a3f5f"
            },
            "marker": {
             "line": {
              "color": "#E5ECF6",
              "width": 0.5
             },
             "pattern": {
              "fillmode": "overlay",
              "size": 10,
              "solidity": 0.2
             }
            },
            "type": "bar"
           }
          ],
          "barpolar": [
           {
            "marker": {
             "line": {
              "color": "#E5ECF6",
              "width": 0.5
             },
             "pattern": {
              "fillmode": "overlay",
              "size": 10,
              "solidity": 0.2
             }
            },
            "type": "barpolar"
           }
          ],
          "carpet": [
           {
            "aaxis": {
             "endlinecolor": "#2a3f5f",
             "gridcolor": "white",
             "linecolor": "white",
             "minorgridcolor": "white",
             "startlinecolor": "#2a3f5f"
            },
            "baxis": {
             "endlinecolor": "#2a3f5f",
             "gridcolor": "white",
             "linecolor": "white",
             "minorgridcolor": "white",
             "startlinecolor": "#2a3f5f"
            },
            "type": "carpet"
           }
          ],
          "choropleth": [
           {
            "colorbar": {
             "outlinewidth": 0,
             "ticks": ""
            },
            "type": "choropleth"
           }
          ],
          "contour": [
           {
            "colorbar": {
             "outlinewidth": 0,
             "ticks": ""
            },
            "colorscale": [
             [
              0,
              "#0d0887"
             ],
             [
              0.1111111111111111,
              "#46039f"
             ],
             [
              0.2222222222222222,
              "#7201a8"
             ],
             [
              0.3333333333333333,
              "#9c179e"
             ],
             [
              0.4444444444444444,
              "#bd3786"
             ],
             [
              0.5555555555555556,
              "#d8576b"
             ],
             [
              0.6666666666666666,
              "#ed7953"
             ],
             [
              0.7777777777777778,
              "#fb9f3a"
             ],
             [
              0.8888888888888888,
              "#fdca26"
             ],
             [
              1,
              "#f0f921"
             ]
            ],
            "type": "contour"
           }
          ],
          "contourcarpet": [
           {
            "colorbar": {
             "outlinewidth": 0,
             "ticks": ""
            },
            "type": "contourcarpet"
           }
          ],
          "heatmap": [
           {
            "colorbar": {
             "outlinewidth": 0,
             "ticks": ""
            },
            "colorscale": [
             [
              0,
              "#0d0887"
             ],
             [
              0.1111111111111111,
              "#46039f"
             ],
             [
              0.2222222222222222,
              "#7201a8"
             ],
             [
              0.3333333333333333,
              "#9c179e"
             ],
             [
              0.4444444444444444,
              "#bd3786"
             ],
             [
              0.5555555555555556,
              "#d8576b"
             ],
             [
              0.6666666666666666,
              "#ed7953"
             ],
             [
              0.7777777777777778,
              "#fb9f3a"
             ],
             [
              0.8888888888888888,
              "#fdca26"
             ],
             [
              1,
              "#f0f921"
             ]
            ],
            "type": "heatmap"
           }
          ],
          "heatmapgl": [
           {
            "colorbar": {
             "outlinewidth": 0,
             "ticks": ""
            },
            "colorscale": [
             [
              0,
              "#0d0887"
             ],
             [
              0.1111111111111111,
              "#46039f"
             ],
             [
              0.2222222222222222,
              "#7201a8"
             ],
             [
              0.3333333333333333,
              "#9c179e"
             ],
             [
              0.4444444444444444,
              "#bd3786"
             ],
             [
              0.5555555555555556,
              "#d8576b"
             ],
             [
              0.6666666666666666,
              "#ed7953"
             ],
             [
              0.7777777777777778,
              "#fb9f3a"
             ],
             [
              0.8888888888888888,
              "#fdca26"
             ],
             [
              1,
              "#f0f921"
             ]
            ],
            "type": "heatmapgl"
           }
          ],
          "histogram": [
           {
            "marker": {
             "pattern": {
              "fillmode": "overlay",
              "size": 10,
              "solidity": 0.2
             }
            },
            "type": "histogram"
           }
          ],
          "histogram2d": [
           {
            "colorbar": {
             "outlinewidth": 0,
             "ticks": ""
            },
            "colorscale": [
             [
              0,
              "#0d0887"
             ],
             [
              0.1111111111111111,
              "#46039f"
             ],
             [
              0.2222222222222222,
              "#7201a8"
             ],
             [
              0.3333333333333333,
              "#9c179e"
             ],
             [
              0.4444444444444444,
              "#bd3786"
             ],
             [
              0.5555555555555556,
              "#d8576b"
             ],
             [
              0.6666666666666666,
              "#ed7953"
             ],
             [
              0.7777777777777778,
              "#fb9f3a"
             ],
             [
              0.8888888888888888,
              "#fdca26"
             ],
             [
              1,
              "#f0f921"
             ]
            ],
            "type": "histogram2d"
           }
          ],
          "histogram2dcontour": [
           {
            "colorbar": {
             "outlinewidth": 0,
             "ticks": ""
            },
            "colorscale": [
             [
              0,
              "#0d0887"
             ],
             [
              0.1111111111111111,
              "#46039f"
             ],
             [
              0.2222222222222222,
              "#7201a8"
             ],
             [
              0.3333333333333333,
              "#9c179e"
             ],
             [
              0.4444444444444444,
              "#bd3786"
             ],
             [
              0.5555555555555556,
              "#d8576b"
             ],
             [
              0.6666666666666666,
              "#ed7953"
             ],
             [
              0.7777777777777778,
              "#fb9f3a"
             ],
             [
              0.8888888888888888,
              "#fdca26"
             ],
             [
              1,
              "#f0f921"
             ]
            ],
            "type": "histogram2dcontour"
           }
          ],
          "mesh3d": [
           {
            "colorbar": {
             "outlinewidth": 0,
             "ticks": ""
            },
            "type": "mesh3d"
           }
          ],
          "parcoords": [
           {
            "line": {
             "colorbar": {
              "outlinewidth": 0,
              "ticks": ""
             }
            },
            "type": "parcoords"
           }
          ],
          "pie": [
           {
            "automargin": true,
            "type": "pie"
           }
          ],
          "scatter": [
           {
            "fillpattern": {
             "fillmode": "overlay",
             "size": 10,
             "solidity": 0.2
            },
            "type": "scatter"
           }
          ],
          "scatter3d": [
           {
            "line": {
             "colorbar": {
              "outlinewidth": 0,
              "ticks": ""
             }
            },
            "marker": {
             "colorbar": {
              "outlinewidth": 0,
              "ticks": ""
             }
            },
            "type": "scatter3d"
           }
          ],
          "scattercarpet": [
           {
            "marker": {
             "colorbar": {
              "outlinewidth": 0,
              "ticks": ""
             }
            },
            "type": "scattercarpet"
           }
          ],
          "scattergeo": [
           {
            "marker": {
             "colorbar": {
              "outlinewidth": 0,
              "ticks": ""
             }
            },
            "type": "scattergeo"
           }
          ],
          "scattergl": [
           {
            "marker": {
             "colorbar": {
              "outlinewidth": 0,
              "ticks": ""
             }
            },
            "type": "scattergl"
           }
          ],
          "scattermapbox": [
           {
            "marker": {
             "colorbar": {
              "outlinewidth": 0,
              "ticks": ""
             }
            },
            "type": "scattermapbox"
           }
          ],
          "scatterpolar": [
           {
            "marker": {
             "colorbar": {
              "outlinewidth": 0,
              "ticks": ""
             }
            },
            "type": "scatterpolar"
           }
          ],
          "scatterpolargl": [
           {
            "marker": {
             "colorbar": {
              "outlinewidth": 0,
              "ticks": ""
             }
            },
            "type": "scatterpolargl"
           }
          ],
          "scatterternary": [
           {
            "marker": {
             "colorbar": {
              "outlinewidth": 0,
              "ticks": ""
             }
            },
            "type": "scatterternary"
           }
          ],
          "surface": [
           {
            "colorbar": {
             "outlinewidth": 0,
             "ticks": ""
            },
            "colorscale": [
             [
              0,
              "#0d0887"
             ],
             [
              0.1111111111111111,
              "#46039f"
             ],
             [
              0.2222222222222222,
              "#7201a8"
             ],
             [
              0.3333333333333333,
              "#9c179e"
             ],
             [
              0.4444444444444444,
              "#bd3786"
             ],
             [
              0.5555555555555556,
              "#d8576b"
             ],
             [
              0.6666666666666666,
              "#ed7953"
             ],
             [
              0.7777777777777778,
              "#fb9f3a"
             ],
             [
              0.8888888888888888,
              "#fdca26"
             ],
             [
              1,
              "#f0f921"
             ]
            ],
            "type": "surface"
           }
          ],
          "table": [
           {
            "cells": {
             "fill": {
              "color": "#EBF0F8"
             },
             "line": {
              "color": "white"
             }
            },
            "header": {
             "fill": {
              "color": "#C8D4E3"
             },
             "line": {
              "color": "white"
             }
            },
            "type": "table"
           }
          ]
         },
         "layout": {
          "annotationdefaults": {
           "arrowcolor": "#2a3f5f",
           "arrowhead": 0,
           "arrowwidth": 1
          },
          "autotypenumbers": "strict",
          "coloraxis": {
           "colorbar": {
            "outlinewidth": 0,
            "ticks": ""
           }
          },
          "colorscale": {
           "diverging": [
            [
             0,
             "#8e0152"
            ],
            [
             0.1,
             "#c51b7d"
            ],
            [
             0.2,
             "#de77ae"
            ],
            [
             0.3,
             "#f1b6da"
            ],
            [
             0.4,
             "#fde0ef"
            ],
            [
             0.5,
             "#f7f7f7"
            ],
            [
             0.6,
             "#e6f5d0"
            ],
            [
             0.7,
             "#b8e186"
            ],
            [
             0.8,
             "#7fbc41"
            ],
            [
             0.9,
             "#4d9221"
            ],
            [
             1,
             "#276419"
            ]
           ],
           "sequential": [
            [
             0,
             "#0d0887"
            ],
            [
             0.1111111111111111,
             "#46039f"
            ],
            [
             0.2222222222222222,
             "#7201a8"
            ],
            [
             0.3333333333333333,
             "#9c179e"
            ],
            [
             0.4444444444444444,
             "#bd3786"
            ],
            [
             0.5555555555555556,
             "#d8576b"
            ],
            [
             0.6666666666666666,
             "#ed7953"
            ],
            [
             0.7777777777777778,
             "#fb9f3a"
            ],
            [
             0.8888888888888888,
             "#fdca26"
            ],
            [
             1,
             "#f0f921"
            ]
           ],
           "sequentialminus": [
            [
             0,
             "#0d0887"
            ],
            [
             0.1111111111111111,
             "#46039f"
            ],
            [
             0.2222222222222222,
             "#7201a8"
            ],
            [
             0.3333333333333333,
             "#9c179e"
            ],
            [
             0.4444444444444444,
             "#bd3786"
            ],
            [
             0.5555555555555556,
             "#d8576b"
            ],
            [
             0.6666666666666666,
             "#ed7953"
            ],
            [
             0.7777777777777778,
             "#fb9f3a"
            ],
            [
             0.8888888888888888,
             "#fdca26"
            ],
            [
             1,
             "#f0f921"
            ]
           ]
          },
          "colorway": [
           "#636efa",
           "#EF553B",
           "#00cc96",
           "#ab63fa",
           "#FFA15A",
           "#19d3f3",
           "#FF6692",
           "#B6E880",
           "#FF97FF",
           "#FECB52"
          ],
          "font": {
           "color": "#2a3f5f"
          },
          "geo": {
           "bgcolor": "white",
           "lakecolor": "white",
           "landcolor": "#E5ECF6",
           "showlakes": true,
           "showland": true,
           "subunitcolor": "white"
          },
          "hoverlabel": {
           "align": "left"
          },
          "hovermode": "closest",
          "mapbox": {
           "style": "light"
          },
          "paper_bgcolor": "white",
          "plot_bgcolor": "#E5ECF6",
          "polar": {
           "angularaxis": {
            "gridcolor": "white",
            "linecolor": "white",
            "ticks": ""
           },
           "bgcolor": "#E5ECF6",
           "radialaxis": {
            "gridcolor": "white",
            "linecolor": "white",
            "ticks": ""
           }
          },
          "scene": {
           "xaxis": {
            "backgroundcolor": "#E5ECF6",
            "gridcolor": "white",
            "gridwidth": 2,
            "linecolor": "white",
            "showbackground": true,
            "ticks": "",
            "zerolinecolor": "white"
           },
           "yaxis": {
            "backgroundcolor": "#E5ECF6",
            "gridcolor": "white",
            "gridwidth": 2,
            "linecolor": "white",
            "showbackground": true,
            "ticks": "",
            "zerolinecolor": "white"
           },
           "zaxis": {
            "backgroundcolor": "#E5ECF6",
            "gridcolor": "white",
            "gridwidth": 2,
            "linecolor": "white",
            "showbackground": true,
            "ticks": "",
            "zerolinecolor": "white"
           }
          },
          "shapedefaults": {
           "line": {
            "color": "#2a3f5f"
           }
          },
          "ternary": {
           "aaxis": {
            "gridcolor": "white",
            "linecolor": "white",
            "ticks": ""
           },
           "baxis": {
            "gridcolor": "white",
            "linecolor": "white",
            "ticks": ""
           },
           "bgcolor": "#E5ECF6",
           "caxis": {
            "gridcolor": "white",
            "linecolor": "white",
            "ticks": ""
           }
          },
          "title": {
           "x": 0.05
          },
          "xaxis": {
           "automargin": true,
           "gridcolor": "white",
           "linecolor": "white",
           "ticks": "",
           "title": {
            "standoff": 15
           },
           "zerolinecolor": "white",
           "zerolinewidth": 2
          },
          "yaxis": {
           "automargin": true,
           "gridcolor": "white",
           "linecolor": "white",
           "ticks": "",
           "title": {
            "standoff": 15
           },
           "zerolinecolor": "white",
           "zerolinewidth": 2
          }
         }
        },
        "width": 1400,
        "xaxis": {
         "gridcolor": "rgba(0, 0, 0, 0.15)",
         "linecolor": "rgba(0, 0, 0, 0)",
         "zerolinecolor": "rgba(0, 0, 0, 0.3)",
         "zerolinewidth": 2
        },
        "yaxis": {
         "gridcolor": "rgba(0, 0, 0, 0.15)",
         "linecolor": "rgba(0, 0, 0, 0)",
         "zerolinecolor": "rgba(0, 0, 0, 0.3)",
         "zerolinewidth": 2
        }
       }
      }
     },
     "metadata": {},
     "output_type": "display_data"
    }
   ],
   "source": [
    "max_x = xs.max()\n",
    "min_x = 0\n",
    "\n",
    "fig = go.Figure()\n",
    "cutt = None\n",
    "fig.add_trace(\n",
    "    go.Scatter(\n",
    "        x = [x for x, y in enumerate(log_lls[:cutt])],\n",
    "        y = [y for x, y in enumerate(log_lls[:cutt])],\n",
    "        mode=\"lines+markers\",\n",
    "        marker=dict(size=3),\n",
    "        line=dict(width=1),\n",
    "        showlegend=False,\n",
    "    ),\n",
    ")\n",
    "\n",
    "fig.update_annotations(font_size=24)\n",
    "fig.update_layout(go.Layout(layout))\n",
    "\n",
    "fig.show()\n",
    "# from IPython.display import Image\n",
    "# Image(filename='q5_FCGR3A.png')"
   ]
  },
  {
   "cell_type": "code",
   "execution_count": 7,
   "metadata": {},
   "outputs": [
    {
     "data": {
      "application/vnd.plotly.v1+json": {
       "config": {
        "plotlyServerURL": "https://plot.ly"
       },
       "data": [
        {
         "mode": "lines+markers",
         "showlegend": false,
         "type": "scatter",
         "x": [
          0,
          1,
          2,
          3,
          4,
          5,
          6,
          7,
          8,
          9,
          10,
          11,
          12,
          13,
          14,
          15,
          16,
          17,
          18,
          19,
          20,
          21,
          22,
          23,
          24,
          25,
          26
         ],
         "y": [
          0.0036491325764455456,
          0.020483551054244167,
          0.05748980819443358,
          0.10756852453562418,
          0.15095267971199558,
          0.16946750258481724,
          0.15854435579375348,
          0.12713594408028153,
          0.08920598069687727,
          0.05563743107800443,
          0.03123076885091902,
          0.01593696421670553,
          0.007454868002734267,
          0.003218935040624387,
          0.0012906241388222388,
          0.0004829744217397165,
          0.00016944148743486972,
          0.000055948241459488445,
          0.000017447352766151533,
          0.0000051545593898370106,
          0.0000014466955942541344,
          3.866993756026013e-7,
          9.866574436606698e-8,
          2.4079871629870845e-8,
          5.631946651900716e-9,
          1.2645445388707382e-9,
          2.73008638456661e-10
         ]
        },
        {
         "mode": "lines+markers",
         "showlegend": false,
         "type": "scatter",
         "x": [
          0,
          1,
          2,
          3,
          4,
          5,
          6,
          7,
          8,
          9,
          10,
          11,
          12,
          13,
          14,
          15,
          16,
          17,
          18,
          19,
          20,
          21,
          22,
          23,
          24,
          25,
          26
         ],
         "y": [
          0.47919705808918,
          0.3525181393837426,
          0.12966381627018353,
          0.0317954423170756,
          0.005847526595422394,
          0.0008603388358163203,
          0.0001054837602895238,
          0.00001108548986409543,
          0.000001019370892172974,
          8.332149331533727e-8,
          6.129490425363039e-9,
          4.09919909232323e-10,
          2.5129572003069176e-11,
          1.4220310054226541e-12,
          7.472197736302996e-14,
          3.6645818230638866e-15,
          1.6848908294601157e-16,
          7.291051589684e-18,
          2.979785429210345e-19,
          1.1537154732792353e-20,
          4.243615702070348e-22,
          1.4865656009764942e-23,
          4.9708278660381695e-25,
          1.5898941609061873e-26,
          4.873312919659576e-28,
          1.4340081384668756e-29,
          4.057379160057398e-31
         ]
        },
        {
         "mode": "lines+markers",
         "showlegend": false,
         "type": "scatter",
         "x": [
          0,
          1,
          2,
          3,
          4,
          5,
          6,
          7,
          8,
          9,
          10,
          11,
          12,
          13,
          14,
          15,
          16,
          17,
          18,
          19,
          20,
          21,
          22,
          23,
          24,
          25,
          26
         ],
         "y": [
          0.0000037930758445350294,
          0.00004734643692190021,
          0.0002954970031022765,
          0.0012294973605787476,
          0.003836748961410523,
          0.009578315864593928,
          0.019926621845013634,
          0.03553296220046417,
          0.05544178466324499,
          0.07689364832085038,
          0.09598121469580599,
          0.10891541021156761,
          0.11329320430969418,
          0.10878181052045263,
          0.0969893439887939,
          0.08071022121142256,
          0.06296574261500945,
          0.046232905045486127,
          0.032060807232416375,
          0.02106282535406069,
          0.013145660314963782,
          0.007813738737802053,
          0.004433349601851383,
          0.0024060237984203656,
          0.0012513662907706414,
          0.0006247988448480647,
          0.00029995951640606925
         ]
        }
       ],
       "layout": {
        "autosize": true,
        "font": {
         "color": "black",
         "family": "Times New Roman",
         "size": 20
        },
        "height": 400,
        "margin": {
         "b": 60,
         "l": 60,
         "pad": 5,
         "r": 25,
         "t": 60
        },
        "plot_bgcolor": "white",
        "template": {
         "data": {
          "bar": [
           {
            "error_x": {
             "color": "#2a3f5f"
            },
            "error_y": {
             "color": "#2a3f5f"
            },
            "marker": {
             "line": {
              "color": "#E5ECF6",
              "width": 0.5
             },
             "pattern": {
              "fillmode": "overlay",
              "size": 10,
              "solidity": 0.2
             }
            },
            "type": "bar"
           }
          ],
          "barpolar": [
           {
            "marker": {
             "line": {
              "color": "#E5ECF6",
              "width": 0.5
             },
             "pattern": {
              "fillmode": "overlay",
              "size": 10,
              "solidity": 0.2
             }
            },
            "type": "barpolar"
           }
          ],
          "carpet": [
           {
            "aaxis": {
             "endlinecolor": "#2a3f5f",
             "gridcolor": "white",
             "linecolor": "white",
             "minorgridcolor": "white",
             "startlinecolor": "#2a3f5f"
            },
            "baxis": {
             "endlinecolor": "#2a3f5f",
             "gridcolor": "white",
             "linecolor": "white",
             "minorgridcolor": "white",
             "startlinecolor": "#2a3f5f"
            },
            "type": "carpet"
           }
          ],
          "choropleth": [
           {
            "colorbar": {
             "outlinewidth": 0,
             "ticks": ""
            },
            "type": "choropleth"
           }
          ],
          "contour": [
           {
            "colorbar": {
             "outlinewidth": 0,
             "ticks": ""
            },
            "colorscale": [
             [
              0,
              "#0d0887"
             ],
             [
              0.1111111111111111,
              "#46039f"
             ],
             [
              0.2222222222222222,
              "#7201a8"
             ],
             [
              0.3333333333333333,
              "#9c179e"
             ],
             [
              0.4444444444444444,
              "#bd3786"
             ],
             [
              0.5555555555555556,
              "#d8576b"
             ],
             [
              0.6666666666666666,
              "#ed7953"
             ],
             [
              0.7777777777777778,
              "#fb9f3a"
             ],
             [
              0.8888888888888888,
              "#fdca26"
             ],
             [
              1,
              "#f0f921"
             ]
            ],
            "type": "contour"
           }
          ],
          "contourcarpet": [
           {
            "colorbar": {
             "outlinewidth": 0,
             "ticks": ""
            },
            "type": "contourcarpet"
           }
          ],
          "heatmap": [
           {
            "colorbar": {
             "outlinewidth": 0,
             "ticks": ""
            },
            "colorscale": [
             [
              0,
              "#0d0887"
             ],
             [
              0.1111111111111111,
              "#46039f"
             ],
             [
              0.2222222222222222,
              "#7201a8"
             ],
             [
              0.3333333333333333,
              "#9c179e"
             ],
             [
              0.4444444444444444,
              "#bd3786"
             ],
             [
              0.5555555555555556,
              "#d8576b"
             ],
             [
              0.6666666666666666,
              "#ed7953"
             ],
             [
              0.7777777777777778,
              "#fb9f3a"
             ],
             [
              0.8888888888888888,
              "#fdca26"
             ],
             [
              1,
              "#f0f921"
             ]
            ],
            "type": "heatmap"
           }
          ],
          "heatmapgl": [
           {
            "colorbar": {
             "outlinewidth": 0,
             "ticks": ""
            },
            "colorscale": [
             [
              0,
              "#0d0887"
             ],
             [
              0.1111111111111111,
              "#46039f"
             ],
             [
              0.2222222222222222,
              "#7201a8"
             ],
             [
              0.3333333333333333,
              "#9c179e"
             ],
             [
              0.4444444444444444,
              "#bd3786"
             ],
             [
              0.5555555555555556,
              "#d8576b"
             ],
             [
              0.6666666666666666,
              "#ed7953"
             ],
             [
              0.7777777777777778,
              "#fb9f3a"
             ],
             [
              0.8888888888888888,
              "#fdca26"
             ],
             [
              1,
              "#f0f921"
             ]
            ],
            "type": "heatmapgl"
           }
          ],
          "histogram": [
           {
            "marker": {
             "pattern": {
              "fillmode": "overlay",
              "size": 10,
              "solidity": 0.2
             }
            },
            "type": "histogram"
           }
          ],
          "histogram2d": [
           {
            "colorbar": {
             "outlinewidth": 0,
             "ticks": ""
            },
            "colorscale": [
             [
              0,
              "#0d0887"
             ],
             [
              0.1111111111111111,
              "#46039f"
             ],
             [
              0.2222222222222222,
              "#7201a8"
             ],
             [
              0.3333333333333333,
              "#9c179e"
             ],
             [
              0.4444444444444444,
              "#bd3786"
             ],
             [
              0.5555555555555556,
              "#d8576b"
             ],
             [
              0.6666666666666666,
              "#ed7953"
             ],
             [
              0.7777777777777778,
              "#fb9f3a"
             ],
             [
              0.8888888888888888,
              "#fdca26"
             ],
             [
              1,
              "#f0f921"
             ]
            ],
            "type": "histogram2d"
           }
          ],
          "histogram2dcontour": [
           {
            "colorbar": {
             "outlinewidth": 0,
             "ticks": ""
            },
            "colorscale": [
             [
              0,
              "#0d0887"
             ],
             [
              0.1111111111111111,
              "#46039f"
             ],
             [
              0.2222222222222222,
              "#7201a8"
             ],
             [
              0.3333333333333333,
              "#9c179e"
             ],
             [
              0.4444444444444444,
              "#bd3786"
             ],
             [
              0.5555555555555556,
              "#d8576b"
             ],
             [
              0.6666666666666666,
              "#ed7953"
             ],
             [
              0.7777777777777778,
              "#fb9f3a"
             ],
             [
              0.8888888888888888,
              "#fdca26"
             ],
             [
              1,
              "#f0f921"
             ]
            ],
            "type": "histogram2dcontour"
           }
          ],
          "mesh3d": [
           {
            "colorbar": {
             "outlinewidth": 0,
             "ticks": ""
            },
            "type": "mesh3d"
           }
          ],
          "parcoords": [
           {
            "line": {
             "colorbar": {
              "outlinewidth": 0,
              "ticks": ""
             }
            },
            "type": "parcoords"
           }
          ],
          "pie": [
           {
            "automargin": true,
            "type": "pie"
           }
          ],
          "scatter": [
           {
            "fillpattern": {
             "fillmode": "overlay",
             "size": 10,
             "solidity": 0.2
            },
            "type": "scatter"
           }
          ],
          "scatter3d": [
           {
            "line": {
             "colorbar": {
              "outlinewidth": 0,
              "ticks": ""
             }
            },
            "marker": {
             "colorbar": {
              "outlinewidth": 0,
              "ticks": ""
             }
            },
            "type": "scatter3d"
           }
          ],
          "scattercarpet": [
           {
            "marker": {
             "colorbar": {
              "outlinewidth": 0,
              "ticks": ""
             }
            },
            "type": "scattercarpet"
           }
          ],
          "scattergeo": [
           {
            "marker": {
             "colorbar": {
              "outlinewidth": 0,
              "ticks": ""
             }
            },
            "type": "scattergeo"
           }
          ],
          "scattergl": [
           {
            "marker": {
             "colorbar": {
              "outlinewidth": 0,
              "ticks": ""
             }
            },
            "type": "scattergl"
           }
          ],
          "scattermapbox": [
           {
            "marker": {
             "colorbar": {
              "outlinewidth": 0,
              "ticks": ""
             }
            },
            "type": "scattermapbox"
           }
          ],
          "scatterpolar": [
           {
            "marker": {
             "colorbar": {
              "outlinewidth": 0,
              "ticks": ""
             }
            },
            "type": "scatterpolar"
           }
          ],
          "scatterpolargl": [
           {
            "marker": {
             "colorbar": {
              "outlinewidth": 0,
              "ticks": ""
             }
            },
            "type": "scatterpolargl"
           }
          ],
          "scatterternary": [
           {
            "marker": {
             "colorbar": {
              "outlinewidth": 0,
              "ticks": ""
             }
            },
            "type": "scatterternary"
           }
          ],
          "surface": [
           {
            "colorbar": {
             "outlinewidth": 0,
             "ticks": ""
            },
            "colorscale": [
             [
              0,
              "#0d0887"
             ],
             [
              0.1111111111111111,
              "#46039f"
             ],
             [
              0.2222222222222222,
              "#7201a8"
             ],
             [
              0.3333333333333333,
              "#9c179e"
             ],
             [
              0.4444444444444444,
              "#bd3786"
             ],
             [
              0.5555555555555556,
              "#d8576b"
             ],
             [
              0.6666666666666666,
              "#ed7953"
             ],
             [
              0.7777777777777778,
              "#fb9f3a"
             ],
             [
              0.8888888888888888,
              "#fdca26"
             ],
             [
              1,
              "#f0f921"
             ]
            ],
            "type": "surface"
           }
          ],
          "table": [
           {
            "cells": {
             "fill": {
              "color": "#EBF0F8"
             },
             "line": {
              "color": "white"
             }
            },
            "header": {
             "fill": {
              "color": "#C8D4E3"
             },
             "line": {
              "color": "white"
             }
            },
            "type": "table"
           }
          ]
         },
         "layout": {
          "annotationdefaults": {
           "arrowcolor": "#2a3f5f",
           "arrowhead": 0,
           "arrowwidth": 1
          },
          "autotypenumbers": "strict",
          "coloraxis": {
           "colorbar": {
            "outlinewidth": 0,
            "ticks": ""
           }
          },
          "colorscale": {
           "diverging": [
            [
             0,
             "#8e0152"
            ],
            [
             0.1,
             "#c51b7d"
            ],
            [
             0.2,
             "#de77ae"
            ],
            [
             0.3,
             "#f1b6da"
            ],
            [
             0.4,
             "#fde0ef"
            ],
            [
             0.5,
             "#f7f7f7"
            ],
            [
             0.6,
             "#e6f5d0"
            ],
            [
             0.7,
             "#b8e186"
            ],
            [
             0.8,
             "#7fbc41"
            ],
            [
             0.9,
             "#4d9221"
            ],
            [
             1,
             "#276419"
            ]
           ],
           "sequential": [
            [
             0,
             "#0d0887"
            ],
            [
             0.1111111111111111,
             "#46039f"
            ],
            [
             0.2222222222222222,
             "#7201a8"
            ],
            [
             0.3333333333333333,
             "#9c179e"
            ],
            [
             0.4444444444444444,
             "#bd3786"
            ],
            [
             0.5555555555555556,
             "#d8576b"
            ],
            [
             0.6666666666666666,
             "#ed7953"
            ],
            [
             0.7777777777777778,
             "#fb9f3a"
            ],
            [
             0.8888888888888888,
             "#fdca26"
            ],
            [
             1,
             "#f0f921"
            ]
           ],
           "sequentialminus": [
            [
             0,
             "#0d0887"
            ],
            [
             0.1111111111111111,
             "#46039f"
            ],
            [
             0.2222222222222222,
             "#7201a8"
            ],
            [
             0.3333333333333333,
             "#9c179e"
            ],
            [
             0.4444444444444444,
             "#bd3786"
            ],
            [
             0.5555555555555556,
             "#d8576b"
            ],
            [
             0.6666666666666666,
             "#ed7953"
            ],
            [
             0.7777777777777778,
             "#fb9f3a"
            ],
            [
             0.8888888888888888,
             "#fdca26"
            ],
            [
             1,
             "#f0f921"
            ]
           ]
          },
          "colorway": [
           "#636efa",
           "#EF553B",
           "#00cc96",
           "#ab63fa",
           "#FFA15A",
           "#19d3f3",
           "#FF6692",
           "#B6E880",
           "#FF97FF",
           "#FECB52"
          ],
          "font": {
           "color": "#2a3f5f"
          },
          "geo": {
           "bgcolor": "white",
           "lakecolor": "white",
           "landcolor": "#E5ECF6",
           "showlakes": true,
           "showland": true,
           "subunitcolor": "white"
          },
          "hoverlabel": {
           "align": "left"
          },
          "hovermode": "closest",
          "mapbox": {
           "style": "light"
          },
          "paper_bgcolor": "white",
          "plot_bgcolor": "#E5ECF6",
          "polar": {
           "angularaxis": {
            "gridcolor": "white",
            "linecolor": "white",
            "ticks": ""
           },
           "bgcolor": "#E5ECF6",
           "radialaxis": {
            "gridcolor": "white",
            "linecolor": "white",
            "ticks": ""
           }
          },
          "scene": {
           "xaxis": {
            "backgroundcolor": "#E5ECF6",
            "gridcolor": "white",
            "gridwidth": 2,
            "linecolor": "white",
            "showbackground": true,
            "ticks": "",
            "zerolinecolor": "white"
           },
           "yaxis": {
            "backgroundcolor": "#E5ECF6",
            "gridcolor": "white",
            "gridwidth": 2,
            "linecolor": "white",
            "showbackground": true,
            "ticks": "",
            "zerolinecolor": "white"
           },
           "zaxis": {
            "backgroundcolor": "#E5ECF6",
            "gridcolor": "white",
            "gridwidth": 2,
            "linecolor": "white",
            "showbackground": true,
            "ticks": "",
            "zerolinecolor": "white"
           }
          },
          "shapedefaults": {
           "line": {
            "color": "#2a3f5f"
           }
          },
          "ternary": {
           "aaxis": {
            "gridcolor": "white",
            "linecolor": "white",
            "ticks": ""
           },
           "baxis": {
            "gridcolor": "white",
            "linecolor": "white",
            "ticks": ""
           },
           "bgcolor": "#E5ECF6",
           "caxis": {
            "gridcolor": "white",
            "linecolor": "white",
            "ticks": ""
           }
          },
          "title": {
           "x": 0.05
          },
          "xaxis": {
           "automargin": true,
           "gridcolor": "white",
           "linecolor": "white",
           "ticks": "",
           "title": {
            "standoff": 15
           },
           "zerolinecolor": "white",
           "zerolinewidth": 2
          },
          "yaxis": {
           "automargin": true,
           "gridcolor": "white",
           "linecolor": "white",
           "ticks": "",
           "title": {
            "standoff": 15
           },
           "zerolinecolor": "white",
           "zerolinewidth": 2
          }
         }
        },
        "width": 1400,
        "xaxis": {
         "gridcolor": "rgba(0, 0, 0, 0.15)",
         "linecolor": "rgba(0, 0, 0, 0)",
         "zerolinecolor": "rgba(0, 0, 0, 0.3)",
         "zerolinewidth": 2
        },
        "yaxis": {
         "gridcolor": "rgba(0, 0, 0, 0.15)",
         "linecolor": "rgba(0, 0, 0, 0)",
         "zerolinecolor": "rgba(0, 0, 0, 0.3)",
         "zerolinewidth": 2
        }
       }
      }
     },
     "metadata": {},
     "output_type": "display_data"
    }
   ],
   "source": [
    "max_x = xs.max()\n",
    "min_x = 0\n",
    "\n",
    "fig = go.Figure()\n",
    "for lmd in current_lambdas.T:\n",
    "    distr = [(x, scipy.stats.poisson.pmf(x, lmd)) for x in np.arange(min_x, max_x+1, 1)]\n",
    "    fig.add_trace(\n",
    "        go.Scatter(\n",
    "            x = [x for x, y in distr],\n",
    "            y = [y for x, y in distr],\n",
    "            mode=\"lines+markers\",\n",
    "            showlegend=False,\n",
    "        ),\n",
    "    )\n",
    "\n",
    "fig.update_annotations(font_size=24)\n",
    "fig.update_layout(go.Layout(layout))\n",
    "\n",
    "fig.show()\n",
    "# from IPython.display import Image\n",
    "# Image(filename='q5_FCGR3A.png')"
   ]
  },
  {
   "cell_type": "code",
   "execution_count": 20,
   "metadata": {},
   "outputs": [
    {
     "name": "stdout",
     "output_type": "stream",
     "text": [
      "iteration: 100\r"
     ]
    }
   ],
   "source": [
    "current_lambdas = initial_lambdas.copy()\n",
    "iterations = 100\n",
    "\n",
    "def sample_gamma(alpha, beta):\n",
    "    return scipy.stats.gamma(alpha).rvs(size=1)[0]\n",
    "\n",
    "# kmeans initialization\n",
    "kmeans = KMeans(n_clusters=NUM_CLUSTERS, random_state=_RAND_STATE, n_init=\"auto\")\n",
    "kmeans.fit(xs)\n",
    "assignments = np.zeros(shape=(xs.shape[0], NUM_CLUSTERS))\n",
    "initial_lambdas = np.zeros(shape=(NUM_CLUSTERS, ))\n",
    "pi = np.zeros(shape=(NUM_CLUSTERS, ))\n",
    "for k in range(NUM_CLUSTERS):\n",
    "    group = np.array([x for a, x in zip(kmeans.labels_, xs) if a == k])\n",
    "    initial_lambdas[k] = group.mean()\n",
    "    pi[k] = group.shape[0]/xs.shape[0]\n",
    "\n",
    "for it in range(iterations):\n",
    "    print(f\"iteration: {it+1}\", end='\\r')\n",
    "    \n",
    "    Z = []\n",
    "    for x in xs:\n",
    "        _Z = []\n",
    "        for k in range(NUM_CLUSTERS):\n",
    "            za = pi[k] * scipy.stats.poisson.pmf(x, current_lambdas[k])[0]\n",
    "            zb = (pi*np.array([scipy.stats.poisson.pmf(x, current_lambdas[k]) for k in range(NUM_CLUSTERS)]).T[0]).sum()\n",
    "            z_k = za/zb\n",
    "            _Z.append(z_k)\n",
    "            assert z_k <1, (za, zb)\n",
    "\n",
    "        theta = scipy.stats.multinomial(1, _Z) # 1 trial, prob. success is Z\n",
    "        z = [i for i, z in enumerate(theta.rvs(size=1)[0]) if z > 0]\n",
    "        assert len(z) == 1\n",
    "        z = z[0]\n",
    "        Z.append(z)\n",
    "\n",
    "    lambdas = []\n",
    "    paramaters = []\n",
    "    for k in range(NUM_CLUSTERS):\n",
    "        z_k = [x for x, z in zip(xs, Z) if z == k]\n",
    "        # print(NU + np.sum(z_k), BETA + len(z_k))\n",
    "        lambdas.append(sample_gamma(NU + np.sum(z_k), BETA + len(z_k)))\n",
    "        paramaters.append(alphas[k] + len(z_k))\n",
    "\n",
    "    pi = scipy.stats.dirichlet.rvs(paramaters, size=1)[0]"
   ]
  },
  {
   "cell_type": "code",
   "execution_count": 22,
   "metadata": {},
   "outputs": [
    {
     "data": {
      "text/plain": [
       "[369.56532230593484, 2313.8943833862977, 2255.513940142632, 2245.6789804696036]"
      ]
     },
     "execution_count": 22,
     "metadata": {},
     "output_type": "execute_result"
    }
   ],
   "source": [
    "lambdas"
   ]
  },
  {
   "cell_type": "code",
   "execution_count": 10,
   "metadata": {},
   "outputs": [
    {
     "ename": "NameError",
     "evalue": "name 'asdf' is not defined",
     "output_type": "error",
     "traceback": [
      "\u001b[0;31m---------------------------------------------------------------------------\u001b[0m",
      "\u001b[0;31mNameError\u001b[0m                                 Traceback (most recent call last)",
      "Cell \u001b[0;32mIn[10], line 1\u001b[0m\n\u001b[0;32m----> 1\u001b[0m asdf\u001b[39m.\u001b[39mrvs(\u001b[39m10\u001b[39m)\n",
      "\u001b[0;31mNameError\u001b[0m: name 'asdf' is not defined"
     ]
    }
   ],
   "source": [
    "asdf.rvs(10)"
   ]
  },
  {
   "cell_type": "code",
   "execution_count": null,
   "metadata": {},
   "outputs": [],
   "source": [
    "ALPHAS = [2, 2, 2]\n",
    "NU = 2\n",
    "BETA = 2\n",
    "NUM_CLUSTERS = len(ALPHAS)\n",
    "\n",
    "_RAND_STATE = 0\n",
    "\n",
    "np.random.seed(_RAND_STATE)\n",
    "xs = pd.read_csv('pmm_q1.tsv', header=None).to_numpy()\n",
    "alphas = np.array(ALPHAS)\n",
    "alpha_sum = alphas.sum()\n",
    "\n",
    "assignments = np.zeros(shape=(xs.shape[0], NUM_CLUSTERS))\n",
    "initial_lambdas = np.array([0.6, 1])\n",
    "\n",
    "current_lambdas = initial_lambdas.copy()\n",
    "log_lls = []\n",
    "for it in range(iterations):\n",
    "    print(f\"iteration: {it+1}\", end='\\r')\n",
    "    xvec = xs[:, 0]\n",
    "\n",
    "    # e-step\n",
    "    gammas = []\n",
    "    for k in range(NUM_CLUSTERS):\n",
    "        gammas.append(scipy.stats.gamma.pdf(current_lambdas[k], NU))\n",
    "        for i, x in enumerate(xvec):\n",
    "            assignments[i, k] = pi[k]*scipy.stats.poisson.pmf(x, current_lambdas[k])\n",
    "\n",
    "    assignments = (assignments.T/assignments.sum(axis=1)).T\n",
    "    log_ll = np.log(scipy.stats.dirichlet.pdf(pi, alphas)) + np.log(gammas).sum() + np.log(assignments.max(axis=1)).sum()\n",
    "    log_lls.append(log_ll)\n",
    "\n",
    "    # m-step\n",
    "    for k in range(NUM_CLUSTERS):\n",
    "        K, N = NUM_CLUSTERS, xs.shape[0]\n",
    "        assignments_k_sum = assignments[:, k].sum()\n",
    "\n",
    "        pi[k] = (alphas[k] - 1 + assignments_k_sum) / (alpha_sum - K + N)\n",
    "        current_lambdas[k] = ((assignments[:, k]*xvec).sum()+1) / (assignments_k_sum+2)"
   ]
  }
 ],
 "metadata": {
  "kernelspec": {
   "display_name": "445",
   "language": "python",
   "name": "python3"
  },
  "language_info": {
   "codemirror_mode": {
    "name": "ipython",
    "version": 3
   },
   "file_extension": ".py",
   "mimetype": "text/x-python",
   "name": "python",
   "nbconvert_exporter": "python",
   "pygments_lexer": "ipython3",
   "version": "3.10.8"
  },
  "orig_nbformat": 4
 },
 "nbformat": 4,
 "nbformat_minor": 2
}
